{
 "metadata": {
  "name": "",
  "signature": "sha256:f6600cb106a2878cc2324a06e2ed6378beea7c52d81c0296d29b2d3b1a8216a7"
 },
 "nbformat": 3,
 "nbformat_minor": 0,
 "worksheets": [
  {
   "cells": [
    {
     "cell_type": "markdown",
     "metadata": {},
     "source": [
      "#Power System Load Flow Analysis by Lynn Powell"
     ]
    },
    {
     "cell_type": "code",
     "collapsed": false,
     "input": [
      "import numpy as np\n",
      "#Formulation of Ybus by singular transformation method for an IEEE 14 bus\n",
      "#system\n",
      "#         |  From |  To   |   R     |   X     |     B/2  |  X'     |\n",
      "#         |  Bus  | Bus   |  pu     |  pu     |     pu   | TAP (a) |\n",
      "linedata = np.array([\n",
      "            [1,     2,      0.01938,  0.05917,   0.0264,        1],\n",
      "            [1,     5,      0.05403,  0.22304,   0.0246,        1],\n",
      "            [2,     3,      0.04699,  0.19797,   0.0219,        1],\n",
      "            [2,     4,      0.05811,  0.17632,   0.0170,        1],\n",
      "            [2,     5,      0.05695,  0.17388,   0.0173,        1],\n",
      "            [3,     4,      0.06701,  0.17103,   0.0064,        1],\n",
      "            [4,     5,      0.01335,  0.04211,   0.0,           1],\n",
      "            [4,     7,      0.0,      0.20912,   0.0,       0.978],\n",
      "            [4,     9,      0.0,      0.55618,   0.0,       0.969],\n",
      "            [5,     6,      0.0,      0.25202,   0.0,       0.932],\n",
      "            [6,    11,      0.09498,  0.19890,   0.0,           1],\n",
      "            [6,    12,      0.12291,  0.25581,   0.0,           1],\n",
      "            [6,    13,      0.06615,  0.13027,   0.0,           1],\n",
      "            [7,     8,      0.0,      0.17615,   0.0,           1],\n",
      "            [7,     9,      0.0,      0.11001,   0.0,           1],\n",
      "            [9,    10,      0.03181,  0.08450,   0.0,           1],\n",
      "            [9,    14,      0.12711,  0.27038,   0.0,           1],\n",
      "            [10,   11,      0.08205,  0.19207,   0.0,           1],\n",
      "            [12,   13,      0.22092,  0.19988,   0.0,           1],\n",
      "            [13,   14,      0.17093,  0.34802,   0.0,           1]])\n",
      "#linedata = np.rec.fromrecords(linedata, dtype = {'names': ['from', 'to', 'R', 'X', 'B', 'tap'], \n",
      "#         'formats': ['<i4', '<i4', '<f8', '<f8', '<f8', '<f8']})"
     ],
     "language": "python",
     "metadata": {},
     "outputs": [],
     "prompt_number": 1
    },
    {
     "cell_type": "code",
     "collapsed": false,
     "input": [
      "frombus = linedata[:,0]\n",
      "tobus = linedata[:,1]\n",
      "R = linedata[:,2]               # Resistance, R...\n",
      "X = linedata[:,3]               # Reactance, X...\n",
      "B = 1j*linedata[:,4]            # Ground Admittance, B/2...\n",
      "a = linedata[:,5]               # Tap setting value..\n",
      "Z = R+1j*X                      # z matrix...\n",
      "y = 1./Z\n",
      "busvec = np.unique(np.concatenate((frombus,tobus)))\n",
      "buses = len(busvec) # No. of buses...\n",
      "elements = len(frombus)                   # No. of elements...\n",
      "Yprimitive = np.zeros((elements+buses,elements+buses), complex)\n",
      "A=np.zeros((elements+buses,buses))\n",
      "np.fill_diagonal(A,1)           #Calculation of Incidence matrix \n",
      "for i in np.arange(elements):\n",
      "    A[buses:,][i,np.where(busvec==frombus[i])] = 1\n",
      "    A[buses:,][i,np.where(busvec==tobus[i])] = -1"
     ],
     "language": "python",
     "metadata": {},
     "outputs": [],
     "prompt_number": 2
    },
    {
     "cell_type": "code",
     "collapsed": false,
     "input": [
      "for i in np.arange(elements):\n",
      "    Yprimitive[buses+i,buses+i] = y[i]/a[i]\n",
      "    Yprimitive[frombus[i],frombus[i]] = Yprimitive[frombus[i],frombus[i]]+B[i]+(1-a[i])*y[i]/a[i]**2\n",
      "    Yprimitive[tobus[i],tobus[i]] = Yprimitive[tobus[i],tobus[i]]+B[i]+(a[i]-1)*y[i]/a[i]**2\n",
      "Y = np.dot(A.T,np.dot(Yprimitive,A))"
     ],
     "language": "python",
     "metadata": {},
     "outputs": [],
     "prompt_number": 3
    },
    {
     "cell_type": "markdown",
     "metadata": {},
     "source": [
      "##Reference System\n",
      "The system base quantities are VA<sub>base</sub> = 100 MVA and V<sub>base</sub> = 132 kV"
     ]
    },
    {
     "cell_type": "code",
     "collapsed": false,
     "input": [
      "import numpy as np\n",
      "vabase = 100.\n",
      "vbase = 132.\n",
      "loaddata = np.array([\n",
      "                     [1,  0,  0],\n",
      "                     [2, 40, 20],\n",
      "                     [3, 25, 15],\n",
      "                     [4, 40, 20],\n",
      "                     [5, 50, 20]])"
     ],
     "language": "python",
     "metadata": {},
     "outputs": [],
     "prompt_number": 4
    },
    {
     "cell_type": "code",
     "collapsed": false,
     "input": [
      "linedata = np.array([\n",
      "                     [1,  2,  0.05,  0.11,  0.02],\n",
      "                     [1,  3,  0.05,  0.11,  0.02],\n",
      "                     [1,  5,  0.03,  0.08,  0.02],\n",
      "                     [2,  3,  0.04,  0.09,  0.02],\n",
      "                     [2,  5,  0.04,  0.09,  0.02],\n",
      "                     [3,  4,  0.06,  0.13,  0.03],\n",
      "                     [4,  5,  0.04,  0.09,  0.02]])"
     ],
     "language": "python",
     "metadata": {},
     "outputs": [],
     "prompt_number": 5
    },
    {
     "cell_type": "code",
     "collapsed": false,
     "input": [
      "frombus = linedata[:,0]\n",
      "tobus = linedata[:,1]\n",
      "R = linedata[:,2]               \n",
      "X = linedata[:,3]               \n",
      "B = 1j*linedata[:,4]             \n",
      "Z = R+1j*X          \n",
      "y = 1./Z\n",
      "slack = 1\n",
      "busvec = np.unique(np.concatenate((frombus,tobus)))\n",
      "buses = len(busvec) \n",
      "elements = len(frombus)                   \n",
      "Yprimitive = np.zeros((elements+buses,elements+buses), complex)\n",
      "A=np.zeros((buses+elements,buses),complex)\n",
      "np.fill_diagonal(A,1)   \n",
      "for i in np.arange(elements):\n",
      "    A[buses:,][i,np.where(busvec==frombus[i])] = 1\n",
      "    A[buses:,][i,np.where(busvec==tobus[i])] = -1   \n",
      "\n",
      "for i in np.arange(elements):\n",
      "    Yprimitive[buses+i,buses+i] = y[i]+B[i]/2.\n",
      "    Yprimitive[frombus[i],frombus[i]] = Yprimitive[frombus[i],frombus[i]]\n",
      "    Yprimitive[tobus[i],tobus[i]] = Yprimitive[tobus[i],tobus[i]]\n",
      "#Y = np.dot(A.T,np.dot(Yprimitive,A))\n",
      "Y = np.dot(np.dot(A.T,Yprimitive),A)\n",
      "Y"
     ],
     "language": "python",
     "metadata": {},
     "outputs": [
      {
       "metadata": {},
       "output_type": "pyout",
       "prompt_number": 6,
       "text": [
        "array([[ 10.95890411-25.99739726j,  -3.42465753 +7.52424658j,\n",
        "         -3.42465753 +7.52424658j,   0.00000000 +0.j        ,\n",
        "         -4.10958904+10.94890411j],\n",
        "       [ -3.42465753 +7.52424658j,  11.67208021-26.06094761j,\n",
        "         -4.12371134 +9.26835052j,   0.00000000 +0.j        ,\n",
        "         -4.12371134 +9.26835052j],\n",
        "       [ -3.42465753 +7.52424658j,  -4.12371134 +9.26835052j,\n",
        "         10.47519814-23.11906051j,  -2.92682927 +6.32646341j,\n",
        "          0.00000000 +0.j        ],\n",
        "       [  0.00000000 +0.j        ,   0.00000000 +0.j        ,\n",
        "         -2.92682927 +6.32646341j,   7.05054061-15.59481393j,\n",
        "         -4.12371134 +9.26835052j],\n",
        "       [ -4.10958904+10.94890411j,  -4.12371134 +9.26835052j,\n",
        "          0.00000000 +0.j        ,  -4.12371134 +9.26835052j,\n",
        "         12.35701172-29.48560514j]])"
       ]
      }
     ],
     "prompt_number": 6
    },
    {
     "cell_type": "code",
     "collapsed": false,
     "input": [
      "#Direct method of Ybus formation\n",
      "Y = np.zeros((buses,buses),complex)\n",
      "b = np.zeros((buses,buses),complex)\n",
      "\n",
      "for i in np.arange(elements):\n",
      "    Y[np.where(frombus[i]==busvec),np.where(tobus[i]==busvec)] = Y[np.where(frombus[i]==busvec), \\\n",
      "                                                                   np.where(tobus[i]==busvec)]-y[i]\n",
      "    Y[np.where(tobus[i]==busvec),np.where(frombus[i]==busvec)] = Y[np.where(frombus[i]==busvec), \\\n",
      "                                                                   np.where(tobus[i]==busvec)]\n",
      "    b[np.where(frombus[i]==busvec),np.where(tobus[i]==busvec)] = b[np.where(frombus[i]==busvec), \\\n",
      "                                                                   np.where(tobus[i]==busvec)]+B[i]/2.\n",
      "    b[np.where(tobus[i]==busvec),np.where(frombus[i]==busvec)] = b[np.where(frombus[i]==busvec), \\\n",
      "                                                                   np.where(tobus[i]==busvec)]\n",
      "for i in np.arange(buses):\n",
      "    for j in np.arange(i+1,buses):\n",
      "        Y[i,i] = Y[i,i]-Y[i,j]+b[i,j]\n",
      "    for j in np.arange(i):\n",
      "        Y[i,i] = Y[i,i]-Y[i,j]+b[i,j]\n",
      "Y"
     ],
     "language": "python",
     "metadata": {},
     "outputs": [
      {
       "metadata": {},
       "output_type": "pyout",
       "prompt_number": 7,
       "text": [
        "array([[ 10.95890411-25.99739726j,  -3.42465753 +7.53424658j,\n",
        "         -3.42465753 +7.53424658j,   0.00000000 +0.j        ,\n",
        "         -4.10958904+10.95890411j],\n",
        "       [ -3.42465753 +7.53424658j,  11.67208021-26.06094761j,\n",
        "         -4.12371134 +9.27835052j,   0.00000000 +0.j        ,\n",
        "         -4.12371134 +9.27835052j],\n",
        "       [ -3.42465753 +7.53424658j,  -4.12371134 +9.27835052j,\n",
        "         10.47519814-23.11906051j,  -2.92682927 +6.34146341j,\n",
        "          0.00000000 +0.j        ],\n",
        "       [  0.00000000 +0.j        ,   0.00000000 +0.j        ,\n",
        "         -2.92682927 +6.34146341j,   7.05054061-15.59481393j,\n",
        "         -4.12371134 +9.27835052j],\n",
        "       [ -4.10958904+10.95890411j,  -4.12371134 +9.27835052j,\n",
        "          0.00000000 +0.j        ,  -4.12371134 +9.27835052j,\n",
        "         12.35701172-29.48560514j]])"
       ]
      }
     ],
     "prompt_number": 7
    },
    {
     "cell_type": "markdown",
     "metadata": {},
     "source": [
      "##Jacobi Method"
     ]
    },
    {
     "cell_type": "code",
     "collapsed": false,
     "input": [
      "Yaa = Y[1:buses,1:buses]\n",
      "Yab = Y[0:buses-1,0]\n",
      "Ybb = Y[0,-1]\n",
      "Yeq = Yaa - np.dot(Yab,np.dot(1/Ybb,Yab.T)) #Kron reduction\n",
      "Yeq"
     ],
     "language": "python",
     "metadata": {},
     "outputs": [
      {
       "metadata": {},
       "output_type": "pyout",
       "prompt_number": 8,
       "text": [
        "array([[ 46.13805809 -97.9186139j ,  30.34226654 -62.57931578j,\n",
        "         34.46597788 -71.8576663j ,  30.34226654 -62.57931578j],\n",
        "       [ 30.34226654 -62.57931578j,  44.94117602 -94.9767268j ,\n",
        "         31.53914861 -65.51620288j,  34.46597788 -71.8576663j ],\n",
        "       [ 34.46597788 -71.8576663j ,  31.53914861 -65.51620288j,\n",
        "         41.51651849 -87.45248023j,  30.34226654 -62.57931578j],\n",
        "       [ 30.34226654 -62.57931578j,  34.46597788 -71.8576663j ,\n",
        "         30.34226654 -62.57931578j,  46.82298960-101.34327144j]])"
       ]
      }
     ],
     "prompt_number": 8
    },
    {
     "cell_type": "code",
     "collapsed": false,
     "input": [
      "np.delete(Y[:,2],2).sum() #verify a few calculations"
     ],
     "language": "python",
     "metadata": {},
     "outputs": [
      {
       "metadata": {},
       "output_type": "pyout",
       "prompt_number": 9,
       "text": [
        "(-10.475198142745445+23.154060505440533j)"
       ]
      }
     ],
     "prompt_number": 9
    },
    {
     "cell_type": "code",
     "collapsed": false,
     "input": [
      "ld = -1*np.conj(loaddata[:,1]+1j*loaddata[:,2])/vabase\n",
      "vg = np.ones(buses,complex)\n",
      "b = np.divide(ld,np.conj(vg))\n",
      "b, np.conj(vg), np.arange(1,buses)"
     ],
     "language": "python",
     "metadata": {},
     "outputs": [
      {
       "metadata": {},
       "output_type": "pyout",
       "prompt_number": 10,
       "text": [
        "(array([ 0.00+0.j  , -0.40+0.2j , -0.25+0.15j, -0.40+0.2j , -0.50+0.2j ]),\n",
        " array([ 1.-0.j,  1.-0.j,  1.-0.j,  1.-0.j,  1.-0.j]),\n",
        " array([1, 2, 3, 4]))"
       ]
      }
     ],
     "prompt_number": 10
    },
    {
     "cell_type": "code",
     "collapsed": false,
     "input": [
      "v = vg\n",
      "for k in np.arange(5):\n",
      "    b = np.divide(ld,np.conj(v))\n",
      "    v = np.append((1+0j),[(b[i]-np.dot(np.delete(Y[:,i],i),np.delete(v,i)))/Y[i,i] for i in np.arange(1,buses)])\n",
      "    print v[1:]"
     ],
     "language": "python",
     "metadata": {},
     "outputs": [
      {
       "output_type": "stream",
       "stream": "stdout",
       "text": [
        "[ 0.98884097-0.01035077j  0.99180795-0.00710179j  0.98105445-0.01708412j\n",
        "  0.98905088-0.0123688j ]\n",
        "[ 0.98177472-0.01723703j  0.98200918-0.01593296j  0.97051386-0.02725806j\n",
        "  0.97939763-0.02126587j]\n",
        "[ 0.97468204-0.02350268j  0.97612804-0.02146349j  0.96038441-0.03608238j\n",
        "  0.97369474-0.02680563j]\n",
        "[ 0.97039752-0.0274149j   0.97040741-0.02637901j  0.95422349-0.04158543j\n",
        "  0.96818852-0.03171012j]\n",
        "[ 0.96630014-0.03088499j  0.96690720-0.02944371j  0.94838628-0.04646839j\n",
        "  0.96480417-0.03477127j]\n"
       ]
      }
     ],
     "prompt_number": 11
    },
    {
     "cell_type": "markdown",
     "metadata": {},
     "source": [
      "The Jacobi method can be vectorized."
     ]
    },
    {
     "cell_type": "code",
     "collapsed": false,
     "input": [
      "v = vg\n",
      "D = np.diag(Y)\n",
      "LU = Y - np.diagflat(D)\n",
      "\n",
      "for i in range(8):\n",
      "    v[0] = 1+0j\n",
      "    b = np.divide(ld,np.conj(v))\n",
      "    v = (b-np.dot(LU,v))/D\n",
      "    print v[1:]"
     ],
     "language": "python",
     "metadata": {},
     "outputs": [
      {
       "output_type": "stream",
       "stream": "stdout",
       "text": [
        "[ 0.98884097-0.01035077j  0.99180795-0.00710179j  0.98105445-0.01708412j\n",
        "  0.98905088-0.0123688j ]\n",
        "[ 0.98177472-0.01723703j  0.98200918-0.01593296j  0.97051386-0.02725806j\n",
        "  0.97939763-0.02126587j]\n",
        "[ 0.97468204-0.02350268j  0.97612804-0.02146349j  0.96038441-0.03608238j\n",
        "  0.97369474-0.02680563j]\n",
        "[ 0.97039752-0.0274149j   0.97040741-0.02637901j  0.95422349-0.04158543j\n",
        "  0.96818852-0.03171012j]\n",
        "[ 0.96630014-0.03088499j  0.96690720-0.02944371j  0.94838628-0.04646839j\n",
        "  0.96480417-0.03477127j]\n",
        "[ 0.96375663-0.03304926j  0.96360527-0.03216512j  0.94473029-0.04951006j\n",
        "  0.96162427-0.03749007j]\n",
        "[ 0.96139046-0.03497227j  0.96152928-0.03385976j  0.94135726-0.05221646j\n",
        "  0.95961531-0.03918597j]\n",
        "[ 0.95988317-0.03617024j  0.95962145-0.03536848j  0.93919120-0.05390029j\n",
        "  0.95777651-0.04069545j]\n"
       ]
      }
     ],
     "prompt_number": 12
    },
    {
     "cell_type": "markdown",
     "metadata": {},
     "source": [
      "##Gauss-Seidel Method"
     ]
    },
    {
     "cell_type": "code",
     "collapsed": false,
     "input": [
      "S = (-loaddata[:,1]-1j*loaddata[:,2])/vabase\n",
      "v = np.ones(buses,complex)\n",
      "\n",
      "for i in range(4):\n",
      "    for k in range(buses):\n",
      "        if k == slack-1:\n",
      "            v[k] = 1+0j\n",
      "        else:\n",
      "            y=Y[k,k]\n",
      "            my = np.ma.array(Y[k,:],mask=False)\n",
      "            mv = np.ma.array(v,mask=False)\n",
      "            my.mask[k]=True\n",
      "            mv.mask[k]=True\n",
      "            v[k] = (np.conj(S[k])/np.conj(v[k])-np.ma.dot(my,mv))/y\n",
      "            my = np.ma.array(Y[k,:],mask=False)\n",
      "            mv = np.ma.array(v,mask=False)\n",
      "    print v[1:]\n"
     ],
     "language": "python",
     "metadata": {},
     "outputs": [
      {
       "output_type": "stream",
       "stream": "stdout",
       "text": [
        "[ 0.98884097-0.01035077j  0.98731424-0.01121018j  0.97591336-0.02169915j\n",
        "  0.97807727-0.02278447j]\n",
        "[ 0.97626024-0.0223856j   0.97546555-0.02197973j  0.95715496-0.03950236j\n",
        "  0.96778498-0.03245252j]\n",
        "[ 0.96808615-0.0295989j   0.96685920-0.02974488j  0.94680952-0.04829418j\n",
        "  0.96176229-0.03765575j]\n",
        "[ 0.96269153-0.03417886j  0.96171946-0.03397492j  0.94074481-0.05305631j\n",
        "  0.95804331-0.040701j  ]\n"
       ]
      }
     ],
     "prompt_number": 13
    },
    {
     "cell_type": "markdown",
     "metadata": {},
     "source": [
      "##Successive Over-relaxation"
     ]
    },
    {
     "cell_type": "code",
     "collapsed": false,
     "input": [
      "S = (-loaddata[:,1]-1j*loaddata[:,2])/vabase\n",
      "v = np.ones(buses,complex)\n",
      "w = 1.2\n",
      "maxi = 25\n",
      "tol = 1.0e-7\n",
      "i = 0\n",
      "\n",
      "while i < maxi:\n",
      "    vo = np.copy(v) #copy of the last voltage array\n",
      "    for k in range(buses):\n",
      "        if k == slack-1:\n",
      "            v[k] = 1+0j\n",
      "        else:\n",
      "            ykk = Y[k,k]\n",
      "            vkold = v[k]\n",
      "            my = np.ma.array(Y[k,:],mask=False)\n",
      "            mv = np.ma.array(v,mask=False)\n",
      "            my.mask[k]=True\n",
      "            mv.mask[k]=True\n",
      "            v[k] = (np.conj(S[k])/np.conj(v[k])-np.ma.dot(my,mv))/ykk\n",
      "            my = np.ma.array(Y[k,:],mask=False)\n",
      "            mv = np.ma.array(v,mask=False)\n",
      "            v[k] = (1-w)*vkold+(w*v[k])\n",
      "    print v[1:]\n",
      "    if np.linalg.norm(v-vo) <= tol:\n",
      "        print \"Convergence reach in % iterations\" % i\n",
      "        break\n",
      "    else:\n",
      "        i += 1\n",
      "#print \"Maximum iterations exceeded\""
     ],
     "language": "python",
     "metadata": {},
     "outputs": [
      {
       "output_type": "stream",
       "stream": "stdout",
       "text": [
        "[ 0.98660916-0.01242092j  0.98369861-0.01443824j  0.96933781-0.02763355j\n",
        "  0.97040212-0.03046301j]\n",
        "[ 0.96930112-0.02901344j  0.96822988-0.02860994j  0.94540974-0.05055206j\n",
        "  0.96004799-0.03972748j]\n",
        "[ 0.96124842-0.0356065j   0.95928861-0.03648084j  0.93731713-0.05622133j\n",
        "  0.95576594-0.04267554j]\n",
        "[ 0.95699437-0.03887398j  0.95619081-0.0383187j   0.93401570-0.05806398j\n",
        "  0.95367148-0.04410646j]\n",
        "[ 0.95551644-0.03960379j  0.95495847-0.03891194j  0.93244250-0.05900677j\n",
        "  0.95288561-0.04448821j]\n",
        "[ 0.95491623-0.03987627j  0.95437803-0.0392385j   0.93184718-0.05924969j\n",
        "  0.95257267-0.04462274j]\n",
        "[ 0.95464118-0.04001981j  0.95415552-0.03932283j  0.93161142-0.05934148j\n",
        "  0.95243530-0.04469186j]\n",
        "[ 0.95453611-0.0400569j   0.95406827-0.03935484j  0.93150892-0.05938937j\n",
        "  0.95238105-0.0447129j ]\n",
        "[ 0.95449447-0.04007254j  0.95403056-0.03937209j  0.93146826-0.0594036j\n",
        "  0.95235956-0.04472116j]\n",
        "[ 0.95447661-0.04008045j  0.95401548-0.03937722j  0.93145218-0.05940944j\n",
        "  0.95235055-0.04472519j]\n",
        "[ 0.95446950-0.04008282j  0.95400955-0.03937932j  0.93144546-0.05941228j\n",
        "  0.95234692-0.04472654j]\n",
        "[ 0.95446669-0.04008385j  0.95400707-0.03938036j  0.93144275-0.05941322j\n",
        "  0.95234547-0.04472709j]\n",
        "[ 0.95446552-0.04008433j  0.95400607-0.0393807j   0.93144167-0.05941361j\n",
        "  0.95234488-0.04472735j]\n",
        "[ 0.95446504-0.04008449j  0.95400567-0.03938084j  0.93144122-0.05941379j\n",
        "  0.95234464-0.04472744j]\n",
        "[ 0.95446486-0.04008456j  0.95400551-0.0393809j   0.93144104-0.05941385j\n",
        "  0.95234454-0.04472747j]\n",
        "[ 0.95446478-0.04008459j  0.95400544-0.03938093j  0.93144097-0.05941388j\n",
        "  0.95234450-0.04472749j]\n",
        "[ 0.95446475-0.0400846j   0.95400542-0.03938094j  0.93144094-0.05941389j\n",
        "  0.95234449-0.0447275j ]"
       ]
      },
      {
       "output_type": "stream",
       "stream": "stdout",
       "text": [
        "\n",
        "Convergence reach in  16terations\n"
       ]
      }
     ],
     "prompt_number": 14
    },
    {
     "cell_type": "markdown",
     "metadata": {},
     "source": [
      "##Z-Matrix: Block Substitution Method"
     ]
    },
    {
     "cell_type": "raw",
     "metadata": {},
     "source": [
      "Yr = Y[1:,1:]\n",
      "Z = np.linalg.inv(Yr)\n",
      "v = np.ones(buses,complex)\n",
      "C = Z*Yr*v[1:]\n",
      "C"
     ]
    },
    {
     "cell_type": "code",
     "collapsed": false,
     "input": [],
     "language": "python",
     "metadata": {},
     "outputs": []
    }
   ],
   "metadata": {}
  }
 ]
}